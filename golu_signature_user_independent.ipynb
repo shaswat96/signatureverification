{
 "cells": [
  {
   "cell_type": "code",
   "execution_count": 1,
   "metadata": {
    "collapsed": false
   },
   "outputs": [
    {
     "name": "stderr",
     "output_type": "stream",
     "text": [
      "/home/subham/anaconda3/lib/python3.6/site-packages/h5py/__init__.py:36: FutureWarning: Conversion of the second argument of issubdtype from `float` to `np.floating` is deprecated. In future, it will be treated as `np.float64 == np.dtype(float).type`.\n",
      "  from ._conv import register_converters as _register_converters\n",
      "Using TensorFlow backend.\n"
     ]
    }
   ],
   "source": [
    "import numpy as np\n",
    "from PIL import Image\n",
    "import os\n",
    "import cv2\n",
    "import h5py\n",
    "os.environ[\"KERAS_BACKEND\"] = \"tensorflow\"\n",
    "os.environ[\"TENSORFLOW_FLAGS\"]  = \"device=gpu\"\n",
    "import tensorflow as tf\n",
    "from sklearn.model_selection import train_test_split\n",
    "import keras\n",
    "from keras.models import Model\n",
    "from keras.layers import Dense, Dropout, Flatten, Activation, GlobalAveragePooling2D\n",
    "from keras.callbacks import EarlyStopping\n",
    "from keras import regularizers\n",
    "import keras.models as models\n",
    "from keras.utils import np_utils\n",
    "from keras.layers import Reshape,Dense,Dropout,Activation,Flatten,GaussianNoise,Conv2D,MaxPooling2D,AveragePooling2D\n",
    "from keras.regularizers import *\n",
    "from keras.optimizers import adam\n",
    "from keras.utils import to_categorical\n",
    "from sklearn.decomposition import PCA\n",
    "from keras.models import load_model"
   ]
  },
  {
   "cell_type": "code",
   "execution_count": 2,
   "metadata": {
    "collapsed": true
   },
   "outputs": [],
   "source": [
    "x = []\n",
    "y = []\n",
    "\n",
    "j = k = 1\n",
    "arr = []\n",
    "path = os.listdir('trainingSet/OfflineSignatures/Chinese/TrainingSet/Offline Genuine/')\n",
    "path.sort(key=str.lower)\n",
    "path\n",
    "t=1\n",
    "j=0\n",
    "for i in range(len(path)):\n",
    "    img = cv2.imread('trainingSet/OfflineSignatures/Chinese/TrainingSet/Offline Genuine/'+path[i]+'')\n",
    "    img=cv2.resize(img,(512,256))\n",
    "    img  = cv2.cvtColor(img,cv2.COLOR_RGB2GRAY)\n",
    "    #a = np.asarray(img)\n",
    "    #a = Center(a,551,1117)\n",
    "    idx=path[i].find('_')\n",
    "    g=int(path[i][:idx])\n",
    "    x.append(img)\n",
    "    y1=np.zeros(10)\n",
    "    y1[g-1]=1\n",
    "    y.append(y1)\n",
    "x11 = []\n",
    "y11 = []\n",
    "\n",
    "j = k = 1\n",
    "arr = []\n",
    "path = os.listdir('trainingSet/OfflineSignatures/Chinese/TrainingSet/Offline Forgeries/')\n",
    "path.sort(key=str.lower)\n",
    "\n",
    "t=1\n",
    "j=0\n",
    "for i in range(len(path)):\n",
    "    img = cv2.imread('trainingSet/OfflineSignatures/Chinese/TrainingSet/Offline Forgeries/'+path[i]+'')\n",
    "    p=path[i][4:]\n",
    "    img=cv2.resize(img,(512,256))\n",
    "    img  = cv2.cvtColor(img,cv2.COLOR_RGB2GRAY)\n",
    "    #a = np.asarray(img)\n",
    "    #a = Center(a,551,1117)\n",
    "    idx=p.find('_')\n",
    "    g=int(p[:idx])\n",
    "    x11.append(img)\n",
    "    y1=np.zeros(10)\n",
    "    y1[g-1]=1\n",
    "    y11.append(y1)\n",
    "x=np.array(x,dtype=np.float32)\n",
    "y=np.array(y)\n",
    "x11=np.array(x11,dtype=np.float32)\n",
    "y11=np.array(y11)\n",
    "y=np.concatenate((y,np.zeros(y.shape)),axis=1)\n",
    "y11=np.concatenate((np.zeros(y11.shape),y11),axis=1)\n",
    "x=np.concatenate((x,x11))\n",
    "y=np.concatenate((y,y11))\n",
    "y1=to_categorical(np.argmax(y,axis=1)//10)\n",
    "y2=np.concatenate((y,y1),axis=1)"
   ]
  },
  {
   "cell_type": "code",
   "execution_count": 3,
   "metadata": {
    "collapsed": false
   },
   "outputs": [
    {
     "name": "stdout",
     "output_type": "stream",
     "text": [
      "(575, 256, 512) (575, 20)\n"
     ]
    },
    {
     "data": {
      "text/plain": [
       "<Figure size 640x480 with 1 Axes>"
      ]
     },
     "metadata": {},
     "output_type": "display_data"
    },
    {
     "data": {
      "text/plain": [
       "<Figure size 640x480 with 0 Axes>"
      ]
     },
     "metadata": {},
     "output_type": "display_data"
    }
   ],
   "source": [
    "print(x.shape,y.shape)\n",
    "from matplotlib import pyplot as plt\n",
    "plt.imshow(np.uint8(255-x[26]))\n",
    "plt.figure();\n",
    "plt.show();"
   ]
  },
  {
   "cell_type": "code",
   "execution_count": 4,
   "metadata": {
    "collapsed": false
   },
   "outputs": [
    {
     "name": "stdout",
     "output_type": "stream",
     "text": [
      "(575, 256, 512, 1) (575, 20)\n",
      "(87, 256, 512, 1) (87, 2) 0.49803922\n"
     ]
    }
   ],
   "source": [
    "x = (x-128)/255.0\n",
    "x=x[...,np.newaxis]\n",
    "in_shp=x[0].shape\n",
    "print(x.shape,y.shape)\n",
    "\n",
    "X_train, X_val, Y_train, Y_val = train_test_split(x, y2, test_size=0.30, random_state=72,stratify=y2)\n",
    "X_val, X_test, Y_val, Y_test = train_test_split(X_val, Y_val, test_size=0.5, random_state=72,stratify=Y_val)\n",
    "y_train=Y_train[:,:21]\n",
    "y_val=Y_val[:,:21]\n",
    "y_test=Y_test[:,:21]\n",
    "Y_train=Y_train[:,20:]\n",
    "Y_val=Y_val[:,20:]\n",
    "Y_test=Y_test[:,20:]\n",
    "print(X_test.shape,Y_test.shape,np.max(x))\n",
    "del x,y,x11,y11,y1,y2"
   ]
  },
  {
   "cell_type": "code",
   "execution_count": 5,
   "metadata": {
    "collapsed": false
   },
   "outputs": [
    {
     "name": "stdout",
     "output_type": "stream",
     "text": [
      "[1 0 0 1 1 0 1 1 0 1 1 0 1 1 1 1 0 0 1 1 1 0 1 0 1 0 1 1 1 1 0 1 1 0 1 0 1\n",
      " 1 1 1 1 0 1 1 0 1 1 1 0 1 0 1 0 0 1 0 1 0 1 0 0 0 0 1 0 0 0 1 1 0 1 0 1 0\n",
      " 1 1 1 0 1 1 1 1 1 0 0 1 1 0 0 0 1 0 1 1 0 1 0 1 0 1 0 1 1 0 1 1 1 1 0 0 1\n",
      " 0 1 0 0 1 1 0 1 0 0 0 1 1 0 1 1 0 1 0 0 1 1 0 1 0 1 0 1 0 1 0 1 1 1 1 1 1\n",
      " 0 1 1 0 0 0 1 1 0 0 1 1 1 1 1 0 0 0 1 1 1 1 1 1 1 0 1 0 0 1 1 1 0 0 0 0 1\n",
      " 1 0 0 0 1 1 0 0 1 0 1 1 0 1 1 1 1 0 0 0 1 0 0 0 1 1 1 1 1 1 1 0 1 1 0 1 1\n",
      " 1 1 1 0 0 1 1 1 1 1 0 1 1 1 1 1 1 0 0 0 1 1 1 1 0 1 1 1 0 0 0 1 0 1 0 1 1\n",
      " 1 0 0 1 1 1 0 1 1 1 0 0 0 1 1 1 1 1 0 0 1 1 0 0 1 1 1 0 0 1 1 0 0 0 1 1 0\n",
      " 1 1 1 1 0 1 1 0 1 1 0 1 1 1 0 1 1 1 1 1 1 0 0 1 1 1 0 0 0 1 1 1 1 1 1 1 1\n",
      " 1 0 1 0 0 0 0 1 1 1 1 0 0 1 0 1 1 1 0 0 1 0 1 1 0 1 1 0 1 0 0 1 1 0 0 1 0\n",
      " 0 0 1 0 0 1 0 1 1 1 0 1 0 1 0 0 1 1 0 1 1 0 0 0 0 1 0 1 1 0 0 0]\n",
      "[0 1]\n"
     ]
    }
   ],
   "source": [
    "classes=Y_test.shape[1]\n",
    "print(np.argmax(Y_train,axis=1))\n",
    "hist = np.unique(np.argmax(Y_train,axis=1))\n",
    "print(hist)"
   ]
  },
  {
   "cell_type": "code",
   "execution_count": 6,
   "metadata": {
    "collapsed": false
   },
   "outputs": [
    {
     "name": "stdout",
     "output_type": "stream",
     "text": [
      "_________________________________________________________________\n",
      "Layer (type)                 Output Shape              Param #   \n",
      "=================================================================\n",
      "conv1 (Conv2D)               (None, 64, 128, 64)       7808      \n",
      "_________________________________________________________________\n",
      "dropout_1 (Dropout)          (None, 64, 128, 64)       0         \n",
      "_________________________________________________________________\n",
      "max_pooling2d_1 (MaxPooling2 (None, 30, 62, 64)        0         \n",
      "_________________________________________________________________\n",
      "conv2 (Conv2D)               (None, 30, 62, 96)        497760    \n",
      "_________________________________________________________________\n",
      "dropout_2 (Dropout)          (None, 30, 62, 96)        0         \n",
      "_________________________________________________________________\n",
      "max_pooling2d_2 (MaxPooling2 (None, 13, 29, 96)        0         \n",
      "_________________________________________________________________\n",
      "conv3 (Conv2D)               (None, 13, 29, 128)       110720    \n",
      "_________________________________________________________________\n",
      "conv4 (Conv2D)               (None, 13, 29, 128)       147584    \n",
      "_________________________________________________________________\n",
      "conv5 (Conv2D)               (None, 13, 29, 128)       147584    \n",
      "_________________________________________________________________\n",
      "dropout_3 (Dropout)          (None, 13, 29, 128)       0         \n",
      "_________________________________________________________________\n",
      "max_pooling2d_3 (MaxPooling2 (None, 6, 14, 128)        0         \n",
      "_________________________________________________________________\n",
      "flatten_1 (Flatten)          (None, 10752)             0         \n",
      "_________________________________________________________________\n",
      "dense1 (Dense)               (None, 256)               2752768   \n",
      "_________________________________________________________________\n",
      "dropout_4 (Dropout)          (None, 256)               0         \n",
      "_________________________________________________________________\n",
      "dense2 (Dense)               (None, 128)               32896     \n",
      "_________________________________________________________________\n",
      "dropout_5 (Dropout)          (None, 128)               0         \n",
      "_________________________________________________________________\n",
      "dense3 (Dense)               (None, 2)                 258       \n",
      "_________________________________________________________________\n",
      "activation_1 (Activation)    (None, 2)                 0         \n",
      "=================================================================\n",
      "Total params: 3,697,378\n",
      "Trainable params: 3,697,378\n",
      "Non-trainable params: 0\n",
      "_________________________________________________________________\n"
     ]
    }
   ],
   "source": [
    "dr = 0.5 # dropout rate (%)\n",
    "model = models.Sequential()\n",
    "model.add(Conv2D(64, (11,11), activation='relu',strides=4, name='conv1', padding='same', kernel_initializer='glorot_uniform', input_shape=in_shp))\n",
    "model.add(Dropout(dr))\n",
    "model.add(MaxPooling2D(pool_size=(5, 5), strides=2, padding='valid', data_format=None))\n",
    "model.add(Conv2D(96, (9, 9), activation='relu', name='conv2', padding='same', kernel_initializer='glorot_uniform'))\n",
    "model.add(Dropout(dr))\n",
    "model.add(MaxPooling2D(pool_size=(5, 5), strides=2, padding='valid', data_format=None))\n",
    "model.add(Conv2D(128, (3, 3), activation='relu', name='conv3', padding='same', kernel_initializer='glorot_uniform'))\n",
    "model.add(Conv2D(128, (3, 3), activation='relu', name='conv4', padding='same', kernel_initializer='glorot_uniform'))\n",
    "model.add(Conv2D(128, (3, 3), activation='relu', name='conv5', padding='same', kernel_initializer='glorot_uniform'))\n",
    "model.add(Dropout(dr))\n",
    "model.add(MaxPooling2D(pool_size=(3, 3), strides=2, padding='valid', data_format=None))\n",
    "model.add(Flatten())\n",
    "model.add(Dense(256, activation='relu', name='dense1', kernel_initializer='he_normal'))\n",
    "model.add(Dropout(dr))\n",
    "model.add(Dense(128, activation='relu', name='dense2', kernel_initializer='he_normal'))\n",
    "model.add(Dropout(dr))\n",
    "model.add(Dense(classes, name='dense3', kernel_initializer='he_normal'))\n",
    "model.add(Activation('softmax'))\n",
    "model.compile(loss='binary_crossentropy', optimizer='adam', metrics=['accuracy'])\n",
    "model.summary()"
   ]
  },
  {
   "cell_type": "code",
   "execution_count": 7,
   "metadata": {
    "collapsed": true
   },
   "outputs": [],
   "source": [
    "nb_epoch = 200     # number of epochs to train on\n",
    "batch_size = 32 # training batch size"
   ]
  },
  {
   "cell_type": "code",
   "execution_count": 8,
   "metadata": {
    "collapsed": false
   },
   "outputs": [
    {
     "name": "stdout",
     "output_type": "stream",
     "text": [
      "Train on 402 samples, validate on 86 samples\n",
      "Epoch 1/200\n",
      "402/402 [==============================] - 5s 13ms/step - loss: 1.0557 - acc: 0.5746 - val_loss: 0.6779 - val_acc: 0.5698\n",
      "Epoch 2/200\n",
      "402/402 [==============================] - 2s 5ms/step - loss: 0.6777 - acc: 0.5796 - val_loss: 0.6744 - val_acc: 0.5698\n",
      "Epoch 3/200\n",
      "402/402 [==============================] - 2s 5ms/step - loss: 0.6766 - acc: 0.6219 - val_loss: 0.6806 - val_acc: 0.5698\n",
      "Epoch 4/200\n",
      "402/402 [==============================] - 2s 5ms/step - loss: 0.6148 - acc: 0.6866 - val_loss: 0.6309 - val_acc: 0.6163\n",
      "Epoch 5/200\n",
      "402/402 [==============================] - 2s 5ms/step - loss: 0.5715 - acc: 0.7164 - val_loss: 0.5612 - val_acc: 0.7674\n",
      "Epoch 6/200\n",
      "402/402 [==============================] - 2s 5ms/step - loss: 0.5239 - acc: 0.7761 - val_loss: 0.6028 - val_acc: 0.7442\n",
      "Epoch 7/200\n",
      "402/402 [==============================] - 2s 5ms/step - loss: 0.3894 - acc: 0.8010 - val_loss: 0.4500 - val_acc: 0.8256\n",
      "Epoch 8/200\n",
      "402/402 [==============================] - 2s 5ms/step - loss: 0.3342 - acc: 0.8831 - val_loss: 0.4834 - val_acc: 0.8488\n",
      "Epoch 9/200\n",
      "402/402 [==============================] - 2s 5ms/step - loss: 0.2548 - acc: 0.9055 - val_loss: 0.4497 - val_acc: 0.8605\n",
      "Epoch 10/200\n",
      "402/402 [==============================] - 2s 5ms/step - loss: 0.2323 - acc: 0.9080 - val_loss: 0.4663 - val_acc: 0.8372\n",
      "Epoch 11/200\n",
      "402/402 [==============================] - 2s 5ms/step - loss: 0.2264 - acc: 0.9055 - val_loss: 0.3361 - val_acc: 0.8721\n",
      "Epoch 12/200\n",
      "402/402 [==============================] - 2s 5ms/step - loss: 0.1921 - acc: 0.9303 - val_loss: 0.3917 - val_acc: 0.8837\n",
      "Epoch 13/200\n",
      "402/402 [==============================] - 2s 5ms/step - loss: 0.0955 - acc: 0.9652 - val_loss: 0.4089 - val_acc: 0.8023\n",
      "Epoch 14/200\n",
      "402/402 [==============================] - 2s 5ms/step - loss: 0.3345 - acc: 0.9055 - val_loss: 0.4693 - val_acc: 0.8488\n",
      "Epoch 15/200\n",
      "402/402 [==============================] - 2s 5ms/step - loss: 0.2136 - acc: 0.9055 - val_loss: 0.5107 - val_acc: 0.7558\n",
      "Epoch 16/200\n",
      "402/402 [==============================] - 2s 5ms/step - loss: 0.2359 - acc: 0.9154 - val_loss: 0.4905 - val_acc: 0.8721\n",
      "Epoch 17/200\n",
      "402/402 [==============================] - 2s 5ms/step - loss: 0.1902 - acc: 0.9353 - val_loss: 0.3651 - val_acc: 0.8488\n",
      "Epoch 18/200\n",
      "402/402 [==============================] - 2s 5ms/step - loss: 0.0911 - acc: 0.9627 - val_loss: 0.3085 - val_acc: 0.8953\n",
      "Epoch 19/200\n",
      "402/402 [==============================] - 2s 5ms/step - loss: 0.0963 - acc: 0.9602 - val_loss: 0.3311 - val_acc: 0.8837\n",
      "Epoch 20/200\n",
      "402/402 [==============================] - 2s 5ms/step - loss: 0.1108 - acc: 0.9577 - val_loss: 0.3263 - val_acc: 0.8605\n",
      "Epoch 21/200\n",
      "402/402 [==============================] - 2s 5ms/step - loss: 0.0866 - acc: 0.9776 - val_loss: 0.3895 - val_acc: 0.8605\n",
      "Epoch 22/200\n",
      "402/402 [==============================] - 2s 5ms/step - loss: 0.0780 - acc: 0.9701 - val_loss: 0.2568 - val_acc: 0.9186\n",
      "Epoch 23/200\n",
      "402/402 [==============================] - 2s 5ms/step - loss: 0.0436 - acc: 0.9801 - val_loss: 0.2417 - val_acc: 0.9186\n",
      "Epoch 24/200\n",
      "402/402 [==============================] - 2s 5ms/step - loss: 0.0453 - acc: 0.9801 - val_loss: 0.2726 - val_acc: 0.8721\n",
      "Epoch 25/200\n",
      "402/402 [==============================] - 2s 5ms/step - loss: 0.0486 - acc: 0.9851 - val_loss: 0.3041 - val_acc: 0.8721\n",
      "Epoch 26/200\n",
      "402/402 [==============================] - 2s 5ms/step - loss: 0.0121 - acc: 0.9975 - val_loss: 0.2658 - val_acc: 0.8837\n",
      "Epoch 27/200\n",
      "402/402 [==============================] - 2s 5ms/step - loss: 0.0375 - acc: 0.9900 - val_loss: 0.2628 - val_acc: 0.8953\n",
      "Epoch 28/200\n",
      "402/402 [==============================] - 2s 5ms/step - loss: 0.0496 - acc: 0.9776 - val_loss: 0.2940 - val_acc: 0.9186\n",
      "Epoch 29/200\n",
      "402/402 [==============================] - 2s 5ms/step - loss: 0.0514 - acc: 0.9801 - val_loss: 0.2800 - val_acc: 0.8837\n",
      "Epoch 30/200\n",
      "402/402 [==============================] - 2s 5ms/step - loss: 0.0858 - acc: 0.9726 - val_loss: 0.3515 - val_acc: 0.8488\n",
      "Epoch 31/200\n",
      "402/402 [==============================] - 2s 5ms/step - loss: 0.0802 - acc: 0.9726 - val_loss: 0.3177 - val_acc: 0.8837\n",
      "Epoch 32/200\n",
      "402/402 [==============================] - 2s 5ms/step - loss: 0.0536 - acc: 0.9851 - val_loss: 0.2521 - val_acc: 0.8953\n",
      "Epoch 33/200\n",
      "402/402 [==============================] - 2s 5ms/step - loss: 0.0848 - acc: 0.9602 - val_loss: 0.2042 - val_acc: 0.9186\n",
      "Epoch 34/200\n",
      "402/402 [==============================] - 2s 5ms/step - loss: 0.1091 - acc: 0.9627 - val_loss: 0.3443 - val_acc: 0.8953\n",
      "Epoch 35/200\n",
      "402/402 [==============================] - 2s 5ms/step - loss: 0.0995 - acc: 0.9726 - val_loss: 0.3101 - val_acc: 0.9070\n",
      "Epoch 36/200\n",
      "402/402 [==============================] - 2s 5ms/step - loss: 0.0809 - acc: 0.9652 - val_loss: 0.2733 - val_acc: 0.8953\n",
      "Epoch 37/200\n",
      "402/402 [==============================] - 2s 5ms/step - loss: 0.0513 - acc: 0.9876 - val_loss: 0.3201 - val_acc: 0.8372\n",
      "Epoch 38/200\n",
      "402/402 [==============================] - 2s 5ms/step - loss: 0.1182 - acc: 0.9726 - val_loss: 0.3396 - val_acc: 0.8721\n",
      "Epoch 39/200\n",
      "402/402 [==============================] - 2s 5ms/step - loss: 0.0845 - acc: 0.9776 - val_loss: 0.3399 - val_acc: 0.8605\n",
      "Epoch 40/200\n",
      "402/402 [==============================] - 2s 5ms/step - loss: 0.0169 - acc: 0.9950 - val_loss: 0.2927 - val_acc: 0.9070\n",
      "Epoch 41/200\n",
      "402/402 [==============================] - 2s 5ms/step - loss: 0.0078 - acc: 0.9975 - val_loss: 0.2691 - val_acc: 0.9186\n",
      "Epoch 42/200\n",
      "402/402 [==============================] - 2s 5ms/step - loss: 0.0899 - acc: 0.9876 - val_loss: 0.3552 - val_acc: 0.8721\n",
      "Epoch 43/200\n",
      "402/402 [==============================] - 2s 5ms/step - loss: 0.0909 - acc: 0.9801 - val_loss: 0.2961 - val_acc: 0.8605\n",
      "Epoch 44/200\n",
      "402/402 [==============================] - 2s 5ms/step - loss: 0.0666 - acc: 0.9801 - val_loss: 0.2946 - val_acc: 0.9302\n",
      "Epoch 45/200\n",
      "402/402 [==============================] - 2s 5ms/step - loss: 0.0599 - acc: 0.9851 - val_loss: 0.2476 - val_acc: 0.9419\n",
      "Epoch 46/200\n",
      "402/402 [==============================] - 2s 5ms/step - loss: 0.0152 - acc: 0.9975 - val_loss: 0.2239 - val_acc: 0.9302\n",
      "Epoch 47/200\n",
      "402/402 [==============================] - 2s 5ms/step - loss: 0.0249 - acc: 0.9900 - val_loss: 0.2354 - val_acc: 0.9070\n",
      "Epoch 48/200\n",
      "402/402 [==============================] - 2s 5ms/step - loss: 0.0042 - acc: 1.0000 - val_loss: 0.2470 - val_acc: 0.8953\n"
     ]
    }
   ],
   "source": [
    "filepath = 'Model_A_wts_data3.h5'\n",
    "history = model.fit(X_train,\n",
    "    Y_train,\n",
    "    batch_size=batch_size,\n",
    "    epochs=nb_epoch,\n",
    "    #show_accuracy=False,\n",
    "#     verbose=2,\n",
    "    validation_data=(X_val, Y_val),\n",
    "    callbacks = [\n",
    "        keras.callbacks.ModelCheckpoint(filepath, monitor='val_loss', verbose=0, save_best_only=True, mode='auto'),\n",
    "        keras.callbacks.EarlyStopping(monitor='val_loss', patience=15, verbose=0, mode='auto')\n",
    "    ])\n",
    "# we re-load the best weights once training is finished\n",
    "model.load_weights(filepath)"
   ]
  },
  {
   "cell_type": "code",
   "execution_count": 17,
   "metadata": {
    "collapsed": false
   },
   "outputs": [
    {
     "data": {
      "image/png": "[encoded data removed]",
      "text/plain": [
       "<Figure size 432x288 with 1 Axes>"
      ]
     },
     "metadata": {},
     "output_type": "display_data"
    }
   ],
   "source": [
    "plt.figure()\n",
    "plt.title('Training performance')\n",
    "plt.plot(history.epoch, history.history['loss'], label='train loss+error')\n",
    "plt.plot(history.epoch, history.history['val_loss'], label='val_error')\n",
    "plt.legend()\n",
    "plt.savefig('Training_Performance_Model_C_90classes_DOST.jpg',dpi=300,transparent=True)"
   ]
  },
  {
   "cell_type": "code",
   "execution_count": 18,
   "metadata": {
    "collapsed": false
   },
   "outputs": [
    {
     "name": "stdout",
     "output_type": "stream",
     "text": [
      "(87, 256, 512, 1) (87, 2)\n",
      "[0 1]\n"
     ]
    }
   ],
   "source": [
    "Y_pred=model.predict(X_test)\n",
    "print(X_test.shape,Y_test.shape)\n",
    "hist = np.unique(np.argmax(Y_test,axis=1))\n",
    "print(hist)"
   ]
  },
  {
   "cell_type": "code",
   "execution_count": 19,
   "metadata": {
    "collapsed": true
   },
   "outputs": [],
   "source": [
    "def plot_confusion_matrix(cm, title='Confusion matrix', cmap=plt.cm.Blues, labels=[]):\n",
    "    plt.imshow(cm, interpolation='nearest', cmap=cmap)\n",
    "    plt.title(title)\n",
    "    plt.colorbar()\n",
    "    tick_marks = np.arange(len(labels))\n",
    "    plt.xticks(tick_marks, labels, rotation=45)\n",
    "    plt.yticks(tick_marks, labels)\n",
    "    plt.tight_layout()\n",
    "    plt.ylabel('True label')\n",
    "    plt.xlabel('Predicted label')"
   ]
  },
  {
   "cell_type": "code",
   "execution_count": 20,
   "metadata": {
    "collapsed": false
   },
   "outputs": [
    {
     "data": {
      "image/png": "[encoded data removed]",
      "text/plain": [
       "<Figure size 432x288 with 2 Axes>"
      ]
     },
     "metadata": {},
     "output_type": "display_data"
    }
   ],
   "source": [
    "conf1=np.zeros([Y_test.shape[1],Y_test.shape[1]])\n",
    "classes=np.array(range(0,2))\n",
    "for i in range(0,Y_test.shape[0]):\n",
    "    j=np.argmax(Y_test[i])\n",
    "    k=np.argmax(Y_pred[i])\n",
    "    conf1[j,k]=conf1[j,k]+1\n",
    "for i in range(0,classes.shape[0]):\n",
    "    conf1[i,:] = (conf1[i,:] / np.sum(conf1[i,:]))\n",
    "plot_confusion_matrix(conf1, labels=classes)"
   ]
  },
  {
   "cell_type": "code",
   "execution_count": 13,
   "metadata": {
    "collapsed": false
   },
   "outputs": [
    {
     "name": "stdout",
     "output_type": "stream",
     "text": [
      "_________________________________________________________________\n",
      "Layer (type)                 Output Shape              Param #   \n",
      "=================================================================\n",
      "conv1 (Conv2D)               (None, 64, 128, 64)       7808      \n",
      "_________________________________________________________________\n",
      "max_pooling2d_4 (MaxPooling2 (None, 30, 62, 64)        0         \n",
      "_________________________________________________________________\n",
      "conv2 (Conv2D)               (None, 30, 62, 96)        497760    \n",
      "_________________________________________________________________\n",
      "max_pooling2d_5 (MaxPooling2 (None, 13, 29, 96)        0         \n",
      "_________________________________________________________________\n",
      "conv3 (Conv2D)               (None, 13, 29, 128)       110720    \n",
      "_________________________________________________________________\n",
      "conv4 (Conv2D)               (None, 13, 29, 128)       147584    \n",
      "_________________________________________________________________\n",
      "conv5 (Conv2D)               (None, 13, 29, 128)       147584    \n",
      "_________________________________________________________________\n",
      "max_pooling2d_6 (MaxPooling2 (None, 6, 14, 128)        0         \n",
      "_________________________________________________________________\n",
      "flatten_2 (Flatten)          (None, 10752)             0         \n",
      "_________________________________________________________________\n",
      "dense1 (Dense)               (None, 256)               2752768   \n",
      "_________________________________________________________________\n",
      "dense2 (Dense)               (None, 128)               32896     \n",
      "=================================================================\n",
      "Total params: 3,697,120\n",
      "Trainable params: 3,697,120\n",
      "Non-trainable params: 0\n",
      "_________________________________________________________________\n"
     ]
    }
   ],
   "source": [
    "model1 = models.Sequential()\n",
    "model1.add(Conv2D(64, (11,11), activation='relu',strides=4, name='conv1', padding='same', kernel_initializer='glorot_uniform', input_shape=in_shp))\n",
    "model1.add(MaxPooling2D(pool_size=(5, 5), strides=2, padding='valid', data_format=None))\n",
    "model1.add(Conv2D(96, (9, 9), activation='relu', name='conv2', padding='same', kernel_initializer='glorot_uniform'))\n",
    "model1.add(MaxPooling2D(pool_size=(5, 5), strides=2, padding='valid', data_format=None))\n",
    "model1.add(Conv2D(128, (3, 3), activation='relu', name='conv3', padding='same', kernel_initializer='glorot_uniform'))\n",
    "model1.add(Conv2D(128, (3, 3), activation='relu', name='conv4', padding='same', kernel_initializer='glorot_uniform'))\n",
    "model1.add(Conv2D(128, (3, 3), activation='relu', name='conv5', padding='same', kernel_initializer='glorot_uniform'))\n",
    "model1.add(MaxPooling2D(pool_size=(3, 3), strides=2, padding='valid', data_format=None))\n",
    "model1.add(Flatten())\n",
    "model1.add(Dense(256, activation='relu', name='dense1', kernel_initializer='he_normal'))\n",
    "model1.add(Dense(128, activation='relu', name='dense2', kernel_initializer='he_normal'))\n",
    "model1.load_weights('Model_A_wts_data3.h5', by_name=True)\n",
    "model1.summary()"
   ]
  },
  {
   "cell_type": "code",
   "execution_count": 14,
   "metadata": {
    "collapsed": false
   },
   "outputs": [
    {
     "name": "stdout",
     "output_type": "stream",
     "text": [
      "(402, 128) (402, 256, 512, 1)\n"
     ]
    }
   ],
   "source": [
    "x_out=np.array(X_test[0])\n",
    "x_out=x_out[np.newaxis,...]\n",
    "y_out=model1.predict(X_train)\n",
    "print(y_out.shape,X_train.shape)"
   ]
  },
  {
   "cell_type": "code",
   "execution_count": 15,
   "metadata": {
    "collapsed": false
   },
   "outputs": [
    {
     "name": "stdout",
     "output_type": "stream",
     "text": [
      "original shape:    (402, 128)\n",
      "transformed shape: (402, 2)\n"
     ]
    },
    {
     "data": {
      "text/plain": [
       "<Figure size 432x288 with 0 Axes>"
      ]
     },
     "execution_count": 15,
     "metadata": {},
     "output_type": "execute_result"
    },
    {
     "data": {
      "image/png": "[encoded data removed]",
      "text/plain": [
       "<Figure size 432x288 with 1 Axes>"
      ]
     },
     "metadata": {},
     "output_type": "display_data"
    },
    {
     "data": {
      "text/plain": [
       "<Figure size 432x288 with 0 Axes>"
      ]
     },
     "metadata": {},
     "output_type": "display_data"
    }
   ],
   "source": [
    "pca = PCA(n_components=2)\n",
    "pca.fit(y_out)\n",
    "X_pca = pca.transform(y_out)\n",
    "print(\"original shape:   \", y_out.shape)\n",
    "print(\"transformed shape:\", X_pca.shape)\n",
    "y_out1 = []\n",
    "y_out2 = []\n",
    "for i in range(0,y_out.shape[0]):\n",
    "    if (np.argmax(Y_train[i]))==(0):\n",
    "        y_out1.append(X_pca[i])\n",
    "    elif (np.argmax(Y_train[i]))==(1):\n",
    "        y_out2.append(X_pca[i])\n",
    "y_out1=np.array(y_out1)\n",
    "y_out2=np.array(y_out2)\n",
    "plt.scatter(y_out1[:, 0], y_out1[:, 1])\n",
    "plt.scatter(y_out2[:, 0], y_out2[:, 1])\n",
    "plt.figure()"
   ]
  },
  {
   "cell_type": "code",
   "execution_count": 16,
   "metadata": {
    "collapsed": false
   },
   "outputs": [
    {
     "name": "stdout",
     "output_type": "stream",
     "text": [
      "original shape:    (402, 128)\n",
      "transformed shape: (402, 2)\n"
     ]
    },
    {
     "data": {
      "image/png": "[encoded data removed]",
      "text/plain": [
       "<Figure size 432x288 with 1 Axes>"
      ]
     },
     "metadata": {},
     "output_type": "display_data"
    },
    {
     "data": {
      "image/png": "[encoded data removed]",
      "text/plain": [
       "<Figure size 432x288 with 1 Axes>"
      ]
     },
     "metadata": {},
     "output_type": "display_data"
    },
    {
     "data": {
      "image/png": "[encoded data removed]",
      "text/plain": [
       "<Figure size 432x288 with 1 Axes>"
      ]
     },
     "metadata": {},
     "output_type": "display_data"
    },
    {
     "data": {
      "image/png": "[encoded data removed]",
      "text/plain": [
       "<Figure size 432x288 with 1 Axes>"
      ]
     },
     "metadata": {},
     "output_type": "display_data"
    },
    {
     "data": {
      "image/png": "[encoded data removed]",
      "text/plain": [
       "<Figure size 432x288 with 1 Axes>"
      ]
     },
     "metadata": {},
     "output_type": "display_data"
    },
    {
     "data": {
      "image/png": "[encoded data removed]",
      "text/plain": [
       "<Figure size 432x288 with 1 Axes>"
      ]
     },
     "metadata": {},
     "output_type": "display_data"
    },
    {
     "data": {
      "image/png": "[encoded data removed]",
      "text/plain": [
       "<Figure size 432x288 with 1 Axes>"
      ]
     },
     "metadata": {},
     "output_type": "display_data"
    },
    {
     "data": {
      "image/png": "[encoded data removed]",
      "text/plain": [
       "<Figure size 432x288 with 1 Axes>"
      ]
     },
     "metadata": {},
     "output_type": "display_data"
    },
    {
     "data": {
      "image/png": "[encoded data removed]",
      "text/plain": [
       "<Figure size 432x288 with 1 Axes>"
      ]
     },
     "metadata": {},
     "output_type": "display_data"
    },
    {
     "data": {
      "image/png": "[encoded data removed]",
      "text/plain": [
       "<Figure size 432x288 with 1 Axes>"
      ]
     },
     "metadata": {},
     "output_type": "display_data"
    },
    {
     "data": {
      "text/plain": [
       "<Figure size 432x288 with 0 Axes>"
      ]
     },
     "metadata": {},
     "output_type": "display_data"
    }
   ],
   "source": [
    "pca = PCA(n_components=2)\n",
    "pca.fit(y_out)\n",
    "X_pca = pca.transform(y_out)\n",
    "print(\"original shape:   \", y_out.shape)\n",
    "print(\"transformed shape:\", X_pca.shape)\n",
    "for j in range(0,10):\n",
    "    y_out1 = []\n",
    "    y_out2 = []\n",
    "    for i in range(0,y_out.shape[0]):\n",
    "        if (np.argmax(Y_train[i]))==0 and np.argmax(y_train[i])==j:\n",
    "            y_out1.append(X_pca[i])\n",
    "        elif (np.argmax(Y_train[i]))==1 and np.argmax(y_train[i])==(10+j):\n",
    "            y_out2.append(X_pca[i])\n",
    "    y_out1=np.array(y_out1)\n",
    "    y_out2=np.array(y_out2)\n",
    "    plt.scatter(y_out1[:, 0], y_out1[:, 1])\n",
    "    plt.scatter(y_out2[:, 0], y_out2[:, 1])\n",
    "    plt.figure()"
   ]
  },
  {
   "cell_type": "code",
   "execution_count": null,
   "metadata": {
    "collapsed": true
   },
   "outputs": [],
   "source": []
  }
 ],
 "metadata": {
  "kernelspec": {
   "display_name": "Python 3",
   "language": "python",
   "name": "python3"
  },
  "language_info": {
   "codemirror_mode": {
    "name": "ipython",
    "version": 3
   },
   "file_extension": ".py",
   "mimetype": "text/x-python",
   "name": "python",
   "nbconvert_exporter": "python",
   "pygments_lexer": "ipython3",
   "version": "3.5.3"
  }
 },
 "nbformat": 4,
 "nbformat_minor": 2
}
