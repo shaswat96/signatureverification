{
 "cells": [
  {
   "cell_type": "code",
   "execution_count": 1,
   "metadata": {
    "collapsed": false
   },
   "outputs": [
    {
     "name": "stderr",
     "output_type": "stream",
     "text": [
      "/home/subham/anaconda3/lib/python3.6/site-packages/h5py/__init__.py:36: FutureWarning: Conversion of the second argument of issubdtype from `float` to `np.floating` is deprecated. In future, it will be treated as `np.float64 == np.dtype(float).type`.\n",
      "  from ._conv import register_converters as _register_converters\n",
      "Using TensorFlow backend.\n"
     ]
    }
   ],
   "source": [
    "import numpy as np\n",
    "from PIL import Image\n",
    "import os\n",
    "import cv2\n",
    "import h5py\n",
    "os.environ[\"KERAS_BACKEND\"] = \"tensorflow\"\n",
    "os.environ[\"TENSORFLOW_FLAGS\"]  = \"device=gpu\"\n",
    "import tensorflow as tf\n",
    "from sklearn.model_selection import train_test_split\n",
    "import keras\n",
    "from keras.models import Model\n",
    "from keras.layers import Dense, Dropout, Flatten, Activation, GlobalAveragePooling2D\n",
    "from keras.callbacks import EarlyStopping\n",
    "from keras import regularizers\n",
    "import keras.models as models\n",
    "from keras.utils import np_utils\n",
    "from keras.layers import Reshape,Dense,Dropout,Activation,Flatten,GaussianNoise,Conv2D,MaxPooling2D,AveragePooling2D\n",
    "from keras.regularizers import *\n",
    "from keras.optimizers import adam\n",
    "from keras.utils import to_categorical\n",
    "from sklearn.decomposition import PCA\n",
    "from keras.models import load_model"
   ]
  },
  {
   "cell_type": "code",
   "execution_count": 2,
   "metadata": {
    "collapsed": true
   },
   "outputs": [],
   "source": [
    "x = []\n",
    "y = []\n",
    "\n",
    "j = k = 1\n",
    "arr = []\n",
    "path = os.listdir('trainingSet/OfflineSignatures/Chinese/TrainingSet/Offline Genuine/')\n",
    "path.sort(key=str.lower)\n",
    "path\n",
    "t=1\n",
    "j=0\n",
    "for i in range(len(path)):\n",
    "    img = cv2.imread('trainingSet/OfflineSignatures/Chinese/TrainingSet/Offline Genuine/'+path[i]+'')\n",
    "    img=cv2.resize(img,(512,256))\n",
    "    img  = cv2.cvtColor(img,cv2.COLOR_RGB2GRAY)\n",
    "    #a = np.asarray(img)\n",
    "    #a = Center(a,551,1117)\n",
    "    idx=path[i].find('_')\n",
    "    g=int(path[i][:idx])\n",
    "    x.append(img)\n",
    "    y1=np.zeros(10)\n",
    "    y1[g-1]=1\n",
    "    y.append(y1)\n",
    "x11 = []\n",
    "y11 = []\n",
    "\n",
    "j = k = 1\n",
    "arr = []\n",
    "path = os.listdir('trainingSet/OfflineSignatures/Chinese/TrainingSet/Offline Forgeries/')\n",
    "path.sort(key=str.lower)\n",
    "\n",
    "t=1\n",
    "j=0\n",
    "for i in range(len(path)):\n",
    "    img = cv2.imread('trainingSet/OfflineSignatures/Chinese/TrainingSet/Offline Forgeries/'+path[i]+'')\n",
    "    p=path[i][4:]\n",
    "    img=cv2.resize(img,(512,256))\n",
    "    img  = cv2.cvtColor(img,cv2.COLOR_RGB2GRAY)\n",
    "    #a = np.asarray(img)\n",
    "    #a = Center(a,551,1117)\n",
    "    idx=p.find('_')\n",
    "    g=int(p[:idx])\n",
    "    x11.append(img)\n",
    "    y1=np.zeros(10)\n",
    "    y1[g-1]=1\n",
    "    y11.append(y1)\n",
    "x=np.array(x,dtype=np.float32)\n",
    "y=np.array(y)\n",
    "x11=np.array(x11,dtype=np.float32)\n",
    "y11=np.array(y11)\n",
    "y=np.concatenate((y,np.zeros(y.shape)),axis=1)\n",
    "y11=np.concatenate((np.zeros(y11.shape),y11),axis=1)\n",
    "x=np.concatenate((x,x11))\n",
    "y=np.concatenate((y,y11))\n"
   ]
  },
  {
   "cell_type": "code",
   "execution_count": 3,
   "metadata": {
    "collapsed": false
   },
   "outputs": [
    {
     "name": "stdout",
     "output_type": "stream",
     "text": [
      "575 575\n"
     ]
    },
    {
     "data": {
      "text/plain": [
       "<Figure size 640x480 with 1 Axes>"
      ]
     },
     "metadata": {},
     "output_type": "display_data"
    },
    {
     "data": {
      "text/plain": [
       "<Figure size 640x480 with 0 Axes>"
      ]
     },
     "metadata": {},
     "output_type": "display_data"
    }
   ],
   "source": [
    "print(len(x),len(y))\n",
    "from matplotlib import pyplot as plt\n",
    "plt.imshow(np.uint8(255-x[26]))\n",
    "plt.figure();\n",
    "plt.show();"
   ]
  },
  {
   "cell_type": "code",
   "execution_count": 4,
   "metadata": {
    "collapsed": false
   },
   "outputs": [
    {
     "name": "stdout",
     "output_type": "stream",
     "text": [
      "(575, 256, 512, 1) (575, 20)\n",
      "(87, 256, 512, 1) (87, 20) 0.49803922\n"
     ]
    }
   ],
   "source": [
    "x = (x-128)/255.0\n",
    "\n",
    "x=x[...,np.newaxis]\n",
    "in_shp=x[0].shape\n",
    "classes=y.shape[1]\n",
    "print(x.shape,y.shape)\n",
    "\n",
    "X_train, X_val, Y_train, Y_val = train_test_split(x, y, test_size=0.30, random_state=72,stratify=y)\n",
    "X_val, X_test, Y_val, Y_test = train_test_split(X_val, Y_val, test_size=0.5, random_state=72,stratify=Y_val)\n",
    "print(X_test.shape,Y_test.shape,np.max(x))\n",
    "del x,y,x11,y11"
   ]
  },
  {
   "cell_type": "code",
   "execution_count": 5,
   "metadata": {
    "collapsed": false
   },
   "outputs": [
    {
     "name": "stdout",
     "output_type": "stream",
     "text": [
      "[11  3  9 17 13  2 10 16  7 16 17  8 17 12 19 19  2  5 15 10 13  3 12  5\n",
      " 17  7 12 16 11 18  1 12 10  5 10  5 10 17 10 19 10  1 10 17  9 12 13 13\n",
      "  6 15  3 14  9  8 10  7 19  7 14  7  3  0  4 12  2  0  0 14 17  8 14  6\n",
      " 18  2 19 18 12  0 15 13 14 12 14  9  3 17 14  7  0  8 15  9 16 14  5 11\n",
      "  2 17  6 19  2 11 11  0 13 10 10 19  2  5 13  4 13  2  8 15 15  0 15  1\n",
      "  3  4 17 14  8 18 18  9 19  2  6 12 16  6 11  5 19  0 12  8 11  0 17 13\n",
      " 18 18 12 16  1 18 16  6  9  9 19 13  3  1 14 11 14 18 15  0  5  1 13 11\n",
      " 12 12 15 18 14  7 11  3  1 16 16 13  7  0  8  5 18 11  5  4  6 18 15  5\n",
      "  2 10  1 13 15  0 10 17 13 10  7  7  7 13  9  4  7 15 12 11 16 16 15 17\n",
      "  6 16 14  6 18 15 18 16 18  5  8 12 14 17 13 13  9 10 14 11 11 14 12  4\n",
      "  4  8 19 18 15 17  2 12 16 18  9  8  0 11  1 18  3 16 16 14  6  6 17 16\n",
      " 11  3 10 17 16  1  2  4 12 14 12 15 14  3  0 13 11  6  5 18 16 15  5  9\n",
      " 17 15  1  8  6 16 15  3 14 11 16 17  6 16 19  3 16 11  7 10 17 16  2 10\n",
      " 18 13 18 10 11  6  2 11 14 17  8  4  3 18 17 11 13 13 12 18 19 12  4 10\n",
      "  4  4  2  9 12 14 15 10  1  0 10  8 17 14 18  9  4 15  9 13 15  3 11 18\n",
      "  1 11  5  7 19 13  2  9 12  8  7  0 13  1  1 12  9 15 19 10  1 14  4 13\n",
      "  6  0 10 10  3 19 12  6  8  7  3 17  8 15 17  7  2  1]\n",
      "[ 0  1  2  3  4  5  6  7  8  9 10 11 12 13 14 15 16 17 18 19]\n"
     ]
    }
   ],
   "source": [
    "print(np.argmax(Y_train,axis=1))\n",
    "hist = np.unique(np.argmax(Y_train,axis=1))\n",
    "print(hist)"
   ]
  },
  {
   "cell_type": "code",
   "execution_count": 6,
   "metadata": {
    "collapsed": false
   },
   "outputs": [
    {
     "name": "stdout",
     "output_type": "stream",
     "text": [
      "_________________________________________________________________\n",
      "Layer (type)                 Output Shape              Param #   \n",
      "=================================================================\n",
      "conv1 (Conv2D)               (None, 64, 128, 64)       7808      \n",
      "_________________________________________________________________\n",
      "dropout_1 (Dropout)          (None, 64, 128, 64)       0         \n",
      "_________________________________________________________________\n",
      "max_pooling2d_1 (MaxPooling2 (None, 30, 62, 64)        0         \n",
      "_________________________________________________________________\n",
      "conv2 (Conv2D)               (None, 30, 62, 96)        497760    \n",
      "_________________________________________________________________\n",
      "dropout_2 (Dropout)          (None, 30, 62, 96)        0         \n",
      "_________________________________________________________________\n",
      "max_pooling2d_2 (MaxPooling2 (None, 13, 29, 96)        0         \n",
      "_________________________________________________________________\n",
      "conv3 (Conv2D)               (None, 13, 29, 128)       110720    \n",
      "_________________________________________________________________\n",
      "conv4 (Conv2D)               (None, 13, 29, 128)       147584    \n",
      "_________________________________________________________________\n",
      "conv5 (Conv2D)               (None, 13, 29, 128)       147584    \n",
      "_________________________________________________________________\n",
      "dropout_3 (Dropout)          (None, 13, 29, 128)       0         \n",
      "_________________________________________________________________\n",
      "max_pooling2d_3 (MaxPooling2 (None, 6, 14, 128)        0         \n",
      "_________________________________________________________________\n",
      "flatten_1 (Flatten)          (None, 10752)             0         \n",
      "_________________________________________________________________\n",
      "dense1 (Dense)               (None, 256)               2752768   \n",
      "_________________________________________________________________\n",
      "dropout_4 (Dropout)          (None, 256)               0         \n",
      "_________________________________________________________________\n",
      "dense2 (Dense)               (None, 128)               32896     \n",
      "_________________________________________________________________\n",
      "dropout_5 (Dropout)          (None, 128)               0         \n",
      "_________________________________________________________________\n",
      "dense3 (Dense)               (None, 20)                2580      \n",
      "_________________________________________________________________\n",
      "activation_1 (Activation)    (None, 20)                0         \n",
      "=================================================================\n",
      "Total params: 3,699,700\n",
      "Trainable params: 3,699,700\n",
      "Non-trainable params: 0\n",
      "_________________________________________________________________\n"
     ]
    }
   ],
   "source": [
    "dr = 0.5 # dropout rate (%)\n",
    "model = models.Sequential()\n",
    "model.add(Conv2D(64, (11,11), activation='relu',strides=4, name='conv1', padding='same', kernel_initializer='glorot_uniform', input_shape=in_shp))\n",
    "model.add(Dropout(dr))\n",
    "model.add(MaxPooling2D(pool_size=(5, 5), strides=2, padding='valid', data_format=None))\n",
    "model.add(Conv2D(96, (9, 9), activation='relu', name='conv2', padding='same', kernel_initializer='glorot_uniform'))\n",
    "model.add(Dropout(dr))\n",
    "model.add(MaxPooling2D(pool_size=(5, 5), strides=2, padding='valid', data_format=None))\n",
    "model.add(Conv2D(128, (3, 3), activation='relu', name='conv3', padding='same', kernel_initializer='glorot_uniform'))\n",
    "model.add(Conv2D(128, (3, 3), activation='relu', name='conv4', padding='same', kernel_initializer='glorot_uniform'))\n",
    "model.add(Conv2D(128, (3, 3), activation='relu', name='conv5', padding='same', kernel_initializer='glorot_uniform'))\n",
    "model.add(Dropout(dr))\n",
    "model.add(MaxPooling2D(pool_size=(3, 3), strides=2, padding='valid', data_format=None))\n",
    "model.add(Flatten())\n",
    "model.add(Dense(256, activation='relu', name='dense1', kernel_initializer='he_normal'))\n",
    "model.add(Dropout(dr))\n",
    "model.add(Dense(128, activation='relu', name='dense2', kernel_initializer='he_normal'))\n",
    "model.add(Dropout(dr))\n",
    "model.add(Dense(classes, name='dense3', kernel_initializer='he_normal'))\n",
    "model.add(Activation('softmax'))\n",
    "model.compile(loss='categorical_crossentropy', optimizer='adam', metrics=['accuracy'])\n",
    "model.summary()"
   ]
  },
  {
   "cell_type": "code",
   "execution_count": 7,
   "metadata": {
    "collapsed": true
   },
   "outputs": [],
   "source": [
    "nb_epoch = 200     # number of epochs to train on\n",
    "batch_size = 32 # training batch size"
   ]
  },
  {
   "cell_type": "code",
   "execution_count": 8,
   "metadata": {
    "collapsed": false
   },
   "outputs": [
    {
     "name": "stdout",
     "output_type": "stream",
     "text": [
      "Train on 402 samples, validate on 86 samples\n",
      "Epoch 1/200\n",
      "402/402 [==============================] - 6s 14ms/step - loss: 3.2562 - acc: 0.0647 - val_loss: 2.9860 - val_acc: 0.0581\n",
      "Epoch 2/200\n",
      "402/402 [==============================] - 2s 5ms/step - loss: 2.9894 - acc: 0.0498 - val_loss: 2.9687 - val_acc: 0.0814\n",
      "Epoch 3/200\n",
      "402/402 [==============================] - 2s 5ms/step - loss: 2.8783 - acc: 0.1119 - val_loss: 2.9376 - val_acc: 0.2326\n",
      "Epoch 4/200\n",
      "402/402 [==============================] - 2s 5ms/step - loss: 2.7144 - acc: 0.1542 - val_loss: 2.7953 - val_acc: 0.2558\n",
      "Epoch 5/200\n",
      "402/402 [==============================] - 2s 5ms/step - loss: 2.4980 - acc: 0.2289 - val_loss: 2.6817 - val_acc: 0.3605\n",
      "Epoch 6/200\n",
      "402/402 [==============================] - 2s 5ms/step - loss: 2.1894 - acc: 0.3035 - val_loss: 2.6366 - val_acc: 0.3953\n",
      "Epoch 7/200\n",
      "402/402 [==============================] - 2s 5ms/step - loss: 1.9053 - acc: 0.4030 - val_loss: 2.3319 - val_acc: 0.5698\n",
      "Epoch 8/200\n",
      "402/402 [==============================] - 2s 5ms/step - loss: 1.7073 - acc: 0.4701 - val_loss: 2.2231 - val_acc: 0.5000\n",
      "Epoch 9/200\n",
      "402/402 [==============================] - 2s 5ms/step - loss: 1.4971 - acc: 0.5473 - val_loss: 2.3912 - val_acc: 0.3256\n",
      "Epoch 10/200\n",
      "402/402 [==============================] - 2s 5ms/step - loss: 1.4070 - acc: 0.5522 - val_loss: 1.9601 - val_acc: 0.6512\n",
      "Epoch 11/200\n",
      "402/402 [==============================] - 2s 5ms/step - loss: 1.2243 - acc: 0.6219 - val_loss: 1.9366 - val_acc: 0.5116\n",
      "Epoch 12/200\n",
      "402/402 [==============================] - 2s 5ms/step - loss: 1.1624 - acc: 0.6493 - val_loss: 1.8375 - val_acc: 0.7093\n",
      "Epoch 13/200\n",
      "402/402 [==============================] - 2s 5ms/step - loss: 0.8987 - acc: 0.7040 - val_loss: 1.7126 - val_acc: 0.6860\n",
      "Epoch 14/200\n",
      "402/402 [==============================] - 2s 5ms/step - loss: 0.9229 - acc: 0.7189 - val_loss: 1.8988 - val_acc: 0.6279\n",
      "Epoch 15/200\n",
      "402/402 [==============================] - 2s 5ms/step - loss: 0.8528 - acc: 0.7463 - val_loss: 1.4554 - val_acc: 0.7674\n",
      "Epoch 16/200\n",
      "402/402 [==============================] - 2s 5ms/step - loss: 0.6829 - acc: 0.7637 - val_loss: 1.3257 - val_acc: 0.7442\n",
      "Epoch 17/200\n",
      "402/402 [==============================] - 2s 5ms/step - loss: 0.8102 - acc: 0.7637 - val_loss: 1.6340 - val_acc: 0.7558\n",
      "Epoch 18/200\n",
      "402/402 [==============================] - 2s 5ms/step - loss: 0.6865 - acc: 0.7662 - val_loss: 1.4184 - val_acc: 0.6628\n",
      "Epoch 19/200\n",
      "402/402 [==============================] - 2s 5ms/step - loss: 0.5756 - acc: 0.8109 - val_loss: 1.3290 - val_acc: 0.7093\n",
      "Epoch 20/200\n",
      "402/402 [==============================] - 2s 5ms/step - loss: 0.5649 - acc: 0.8259 - val_loss: 1.2013 - val_acc: 0.7907\n",
      "Epoch 21/200\n",
      "402/402 [==============================] - 2s 5ms/step - loss: 0.4634 - acc: 0.8706 - val_loss: 1.1436 - val_acc: 0.7907\n",
      "Epoch 22/200\n",
      "402/402 [==============================] - 2s 5ms/step - loss: 0.2912 - acc: 0.8930 - val_loss: 1.0407 - val_acc: 0.7907\n",
      "Epoch 23/200\n",
      "402/402 [==============================] - 2s 5ms/step - loss: 0.5032 - acc: 0.8408 - val_loss: 1.2623 - val_acc: 0.8023\n",
      "Epoch 24/200\n",
      "402/402 [==============================] - 2s 5ms/step - loss: 0.4890 - acc: 0.8433 - val_loss: 1.2251 - val_acc: 0.7674\n",
      "Epoch 25/200\n",
      "402/402 [==============================] - 2s 5ms/step - loss: 0.4525 - acc: 0.8756 - val_loss: 1.0726 - val_acc: 0.8140\n",
      "Epoch 26/200\n",
      "402/402 [==============================] - 2s 5ms/step - loss: 0.3709 - acc: 0.8930 - val_loss: 1.1807 - val_acc: 0.8140\n",
      "Epoch 27/200\n",
      "402/402 [==============================] - 2s 5ms/step - loss: 0.3048 - acc: 0.8955 - val_loss: 0.9979 - val_acc: 0.8256\n",
      "Epoch 28/200\n",
      "402/402 [==============================] - 2s 5ms/step - loss: 0.3674 - acc: 0.8806 - val_loss: 1.1625 - val_acc: 0.7674\n",
      "Epoch 29/200\n",
      "402/402 [==============================] - 2s 5ms/step - loss: 0.2764 - acc: 0.9129 - val_loss: 0.8761 - val_acc: 0.8721\n",
      "Epoch 30/200\n",
      "402/402 [==============================] - 2s 5ms/step - loss: 0.3462 - acc: 0.9055 - val_loss: 0.9118 - val_acc: 0.8256\n",
      "Epoch 31/200\n",
      "402/402 [==============================] - 2s 5ms/step - loss: 0.3604 - acc: 0.8905 - val_loss: 1.0323 - val_acc: 0.8023\n",
      "Epoch 32/200\n",
      "402/402 [==============================] - 2s 5ms/step - loss: 0.1897 - acc: 0.9353 - val_loss: 0.8761 - val_acc: 0.8488\n",
      "Epoch 33/200\n",
      "402/402 [==============================] - 2s 5ms/step - loss: 0.2871 - acc: 0.9279 - val_loss: 0.7840 - val_acc: 0.8256\n",
      "Epoch 34/200\n",
      "402/402 [==============================] - 2s 5ms/step - loss: 0.2190 - acc: 0.9502 - val_loss: 0.7721 - val_acc: 0.8140\n",
      "Epoch 35/200\n",
      "402/402 [==============================] - 2s 5ms/step - loss: 0.2415 - acc: 0.9229 - val_loss: 0.7274 - val_acc: 0.8372\n",
      "Epoch 36/200\n",
      "402/402 [==============================] - 2s 5ms/step - loss: 0.2631 - acc: 0.9179 - val_loss: 0.8512 - val_acc: 0.8372\n",
      "Epoch 37/200\n",
      "402/402 [==============================] - 2s 5ms/step - loss: 0.2465 - acc: 0.9353 - val_loss: 1.0108 - val_acc: 0.7907\n",
      "Epoch 38/200\n",
      "402/402 [==============================] - 2s 5ms/step - loss: 0.1788 - acc: 0.9403 - val_loss: 0.8465 - val_acc: 0.8140\n",
      "Epoch 39/200\n",
      "402/402 [==============================] - 2s 5ms/step - loss: 0.1977 - acc: 0.9328 - val_loss: 0.7627 - val_acc: 0.8023\n",
      "Epoch 40/200\n",
      "402/402 [==============================] - 2s 5ms/step - loss: 0.3227 - acc: 0.9229 - val_loss: 0.9668 - val_acc: 0.8023\n",
      "Epoch 41/200\n",
      "402/402 [==============================] - 2s 5ms/step - loss: 0.2470 - acc: 0.9279 - val_loss: 0.8450 - val_acc: 0.8256\n",
      "Epoch 42/200\n",
      "402/402 [==============================] - 2s 5ms/step - loss: 0.1755 - acc: 0.9453 - val_loss: 0.8135 - val_acc: 0.8256\n",
      "Epoch 43/200\n",
      "402/402 [==============================] - 2s 5ms/step - loss: 0.1559 - acc: 0.9527 - val_loss: 0.6681 - val_acc: 0.8372\n",
      "Epoch 44/200\n",
      "402/402 [==============================] - 2s 5ms/step - loss: 0.1155 - acc: 0.9652 - val_loss: 0.7366 - val_acc: 0.8372\n",
      "Epoch 45/200\n",
      "402/402 [==============================] - 2s 5ms/step - loss: 0.1371 - acc: 0.9577 - val_loss: 0.7162 - val_acc: 0.8140\n",
      "Epoch 46/200\n",
      "402/402 [==============================] - 2s 5ms/step - loss: 0.1790 - acc: 0.9453 - val_loss: 0.7530 - val_acc: 0.8372\n",
      "Epoch 47/200\n",
      "402/402 [==============================] - 2s 5ms/step - loss: 0.2416 - acc: 0.9328 - val_loss: 0.9118 - val_acc: 0.7791\n",
      "Epoch 48/200\n",
      "402/402 [==============================] - 2s 5ms/step - loss: 0.2732 - acc: 0.9080 - val_loss: 0.7625 - val_acc: 0.8605\n",
      "Epoch 49/200\n",
      "402/402 [==============================] - 2s 5ms/step - loss: 0.1973 - acc: 0.9453 - val_loss: 0.8431 - val_acc: 0.8372\n",
      "Epoch 50/200\n",
      "402/402 [==============================] - 2s 5ms/step - loss: 0.1934 - acc: 0.9378 - val_loss: 0.6794 - val_acc: 0.8488\n",
      "Epoch 51/200\n",
      "402/402 [==============================] - 2s 5ms/step - loss: 0.2063 - acc: 0.9453 - val_loss: 0.7294 - val_acc: 0.8256\n",
      "Epoch 52/200\n",
      "402/402 [==============================] - 2s 5ms/step - loss: 0.2297 - acc: 0.9353 - val_loss: 0.8445 - val_acc: 0.8023\n",
      "Epoch 53/200\n",
      "402/402 [==============================] - 2s 5ms/step - loss: 0.1899 - acc: 0.9478 - val_loss: 0.6718 - val_acc: 0.8372\n"
     ]
    }
   ],
   "source": [
    "filepath = 'Model_A_wts_data2.h5'\n",
    "history = model.fit(X_train,\n",
    "    Y_train,\n",
    "    batch_size=batch_size,\n",
    "    epochs=nb_epoch,\n",
    "    #show_accuracy=False,\n",
    "#     verbose=2,\n",
    "    validation_data=(X_val, Y_val),\n",
    "    callbacks = [\n",
    "        keras.callbacks.ModelCheckpoint(filepath, monitor='val_loss', verbose=0, save_best_only=True, mode='auto'),\n",
    "        keras.callbacks.EarlyStopping(monitor='val_loss', patience=10, verbose=0, mode='auto')\n",
    "    ])\n",
    "# we re-load the best weights once training is finished\n",
    "model.load_weights(filepath)"
   ]
  },
  {
   "cell_type": "code",
   "execution_count": 9,
   "metadata": {
    "collapsed": false
   },
   "outputs": [
    {
     "data": {
      "image/png": "[encoded data removed]",
      "text/plain": [
       "<Figure size 432x288 with 1 Axes>"
      ]
     },
     "metadata": {},
     "output_type": "display_data"
    }
   ],
   "source": [
    "plt.figure()\n",
    "plt.title('Training performance')\n",
    "plt.plot(history.epoch, history.history['loss'], label='train loss+error')\n",
    "plt.plot(history.epoch, history.history['val_loss'], label='val_error')\n",
    "plt.legend()\n",
    "plt.savefig('Training_Performance_Model_C_90classes_DOST.jpg',dpi=300,transparent=True)"
   ]
  },
  {
   "cell_type": "code",
   "execution_count": 10,
   "metadata": {
    "collapsed": false
   },
   "outputs": [
    {
     "name": "stdout",
     "output_type": "stream",
     "text": [
      "(87, 256, 512, 1) (87, 20)\n",
      "[ 0  1  2  3  4  5  6  7  8  9 10 11 12 13 14 15 16 17 18 19]\n"
     ]
    }
   ],
   "source": [
    "Y_pred=model.predict(X_test)\n",
    "print(X_test.shape,Y_test.shape)\n",
    "hist = np.unique(np.argmax(Y_test,axis=1))\n",
    "print(hist)"
   ]
  },
  {
   "cell_type": "code",
   "execution_count": 11,
   "metadata": {
    "collapsed": true
   },
   "outputs": [],
   "source": [
    "def plot_confusion_matrix(cm, title='Confusion matrix', cmap=plt.cm.Blues, labels=[]):\n",
    "    plt.imshow(cm, interpolation='nearest', cmap=cmap)\n",
    "    plt.title(title)\n",
    "    plt.colorbar()\n",
    "    tick_marks = np.arange(len(labels))\n",
    "    plt.xticks(tick_marks, labels, rotation=45)\n",
    "    plt.yticks(tick_marks, labels)\n",
    "    plt.tight_layout()\n",
    "    plt.ylabel('True label')\n",
    "    plt.xlabel('Predicted label')"
   ]
  },
  {
   "cell_type": "code",
   "execution_count": 12,
   "metadata": {
    "collapsed": false
   },
   "outputs": [
    {
     "data": {
      "image/png": "[encoded data removed]",
      "text/plain": [
       "<Figure size 432x288 with 2 Axes>"
      ]
     },
     "metadata": {},
     "output_type": "display_data"
    },
    {
     "data": {
      "image/png": "[encoded data removed]",
      "text/plain": [
       "<Figure size 432x288 with 2 Axes>"
      ]
     },
     "metadata": {},
     "output_type": "display_data"
    }
   ],
   "source": [
    "conf1=np.zeros([Y_test.shape[1],Y_test.shape[1]])\n",
    "conf2=np.zeros([2,2])\n",
    "classes=np.array(range(0,20))\n",
    "for i in range(0,Y_test.shape[0]):\n",
    "    j=np.argmax(Y_test[i])\n",
    "    k=np.argmax(Y_pred[i])\n",
    "    conf1[j,k]=conf1[j,k]+1\n",
    "    conf2[j//10,k//10]=conf2[j//10,k//10]+1\n",
    "for i in range(0,classes.shape[0]):\n",
    "    conf1[i,:] = (conf1[i,:] / np.sum(conf1[i,:]))\n",
    "for i in range(0,2):\n",
    "    conf2[i,:] = (conf2[i,:] / np.sum(conf2[i,:]))\n",
    "plot_confusion_matrix(conf1, labels=classes)\n",
    "plt.figure()\n",
    "plot_confusion_matrix(conf2, labels=[0,1])"
   ]
  },
  {
   "cell_type": "code",
   "execution_count": null,
   "metadata": {
    "collapsed": true
   },
   "outputs": [],
   "source": []
  },
  {
   "cell_type": "code",
   "execution_count": 13,
   "metadata": {
    "collapsed": false
   },
   "outputs": [
    {
     "name": "stdout",
     "output_type": "stream",
     "text": [
      "_________________________________________________________________\n",
      "Layer (type)                 Output Shape              Param #   \n",
      "=================================================================\n",
      "conv1 (Conv2D)               (None, 64, 128, 64)       7808      \n",
      "_________________________________________________________________\n",
      "max_pooling2d_4 (MaxPooling2 (None, 30, 62, 64)        0         \n",
      "_________________________________________________________________\n",
      "conv2 (Conv2D)               (None, 30, 62, 96)        497760    \n",
      "_________________________________________________________________\n",
      "max_pooling2d_5 (MaxPooling2 (None, 13, 29, 96)        0         \n",
      "_________________________________________________________________\n",
      "conv3 (Conv2D)               (None, 13, 29, 128)       110720    \n",
      "_________________________________________________________________\n",
      "conv4 (Conv2D)               (None, 13, 29, 128)       147584    \n",
      "_________________________________________________________________\n",
      "conv5 (Conv2D)               (None, 13, 29, 128)       147584    \n",
      "_________________________________________________________________\n",
      "max_pooling2d_6 (MaxPooling2 (None, 6, 14, 128)        0         \n",
      "_________________________________________________________________\n",
      "flatten_2 (Flatten)          (None, 10752)             0         \n",
      "_________________________________________________________________\n",
      "dense1 (Dense)               (None, 256)               2752768   \n",
      "_________________________________________________________________\n",
      "dense2 (Dense)               (None, 128)               32896     \n",
      "=================================================================\n",
      "Total params: 3,697,120\n",
      "Trainable params: 3,697,120\n",
      "Non-trainable params: 0\n",
      "_________________________________________________________________\n"
     ]
    }
   ],
   "source": [
    "model1 = models.Sequential()\n",
    "model1.add(Conv2D(64, (11,11), activation='relu',strides=4, name='conv1', padding='same', kernel_initializer='glorot_uniform', input_shape=in_shp))\n",
    "model1.add(MaxPooling2D(pool_size=(5, 5), strides=2, padding='valid', data_format=None))\n",
    "model1.add(Conv2D(96, (9, 9), activation='relu', name='conv2', padding='same', kernel_initializer='glorot_uniform'))\n",
    "model1.add(MaxPooling2D(pool_size=(5, 5), strides=2, padding='valid', data_format=None))\n",
    "model1.add(Conv2D(128, (3, 3), activation='relu', name='conv3', padding='same', kernel_initializer='glorot_uniform'))\n",
    "model1.add(Conv2D(128, (3, 3), activation='relu', name='conv4', padding='same', kernel_initializer='glorot_uniform'))\n",
    "model1.add(Conv2D(128, (3, 3), activation='relu', name='conv5', padding='same', kernel_initializer='glorot_uniform'))\n",
    "model1.add(MaxPooling2D(pool_size=(3, 3), strides=2, padding='valid', data_format=None))\n",
    "model1.add(Flatten())\n",
    "model1.add(Dense(256, activation='relu', name='dense1', kernel_initializer='he_normal'))\n",
    "model1.add(Dense(128, activation='relu', name='dense2', kernel_initializer='he_normal'))\n",
    "model1.load_weights('Model_A_wts_data2.h5', by_name=True)\n",
    "model1.summary()"
   ]
  },
  {
   "cell_type": "code",
   "execution_count": 14,
   "metadata": {
    "collapsed": false
   },
   "outputs": [
    {
     "name": "stdout",
     "output_type": "stream",
     "text": [
      "(402, 128) (402, 256, 512, 1)\n"
     ]
    }
   ],
   "source": [
    "x_out=np.array(X_test[0])\n",
    "x_out=x_out[np.newaxis,...]\n",
    "y_out=model1.predict(X_train)\n",
    "print(y_out.shape,X_train.shape)"
   ]
  },
  {
   "cell_type": "code",
   "execution_count": 15,
   "metadata": {
    "collapsed": false
   },
   "outputs": [
    {
     "name": "stdout",
     "output_type": "stream",
     "text": [
      "original shape:    (402, 128)\n",
      "transformed shape: (402, 2)\n"
     ]
    },
    {
     "data": {
      "image/png": "[encoded data removed]",
      "text/plain": [
       "<Figure size 432x288 with 1 Axes>"
      ]
     },
     "metadata": {},
     "output_type": "display_data"
    },
    {
     "data": {
      "image/png": "[encoded data removed]",
      "text/plain": [
       "<Figure size 432x288 with 1 Axes>"
      ]
     },
     "metadata": {},
     "output_type": "display_data"
    },
    {
     "data": {
      "image/png": "[encoded data removed]",
      "text/plain": [
       "<Figure size 432x288 with 1 Axes>"
      ]
     },
     "metadata": {},
     "output_type": "display_data"
    },
    {
     "data": {
      "image/png": "[encoded data removed]",
      "text/plain": [
       "<Figure size 432x288 with 1 Axes>"
      ]
     },
     "metadata": {},
     "output_type": "display_data"
    },
    {
     "data": {
      "image/png": "[encoded data removed]",
      "text/plain": [
       "<Figure size 432x288 with 1 Axes>"
      ]
     },
     "metadata": {},
     "output_type": "display_data"
    },
    {
     "data": {
      "image/png": "[encoded data removed]",
      "text/plain": [
       "<Figure size 432x288 with 1 Axes>"
      ]
     },
     "metadata": {},
     "output_type": "display_data"
    },
    {
     "data": {
      "image/png": "[encoded data removed]",
      "text/plain": [
       "<Figure size 432x288 with 1 Axes>"
      ]
     },
     "metadata": {},
     "output_type": "display_data"
    },
    {
     "data": {
      "image/png": "[encoded data removed]",
      "text/plain": [
       "<Figure size 432x288 with 1 Axes>"
      ]
     },
     "metadata": {},
     "output_type": "display_data"
    },
    {
     "data": {
      "image/png": "[encoded data removed]",
      "text/plain": [
       "<Figure size 432x288 with 1 Axes>"
      ]
     },
     "metadata": {},
     "output_type": "display_data"
    },
    {
     "data": {
      "image/png": "[encoded data removed]",
      "text/plain": [
       "<Figure size 432x288 with 1 Axes>"
      ]
     },
     "metadata": {},
     "output_type": "display_data"
    },
    {
     "data": {
      "text/plain": [
       "<Figure size 432x288 with 0 Axes>"
      ]
     },
     "metadata": {},
     "output_type": "display_data"
    }
   ],
   "source": [
    "pca = PCA(n_components=2)\n",
    "pca.fit(y_out)\n",
    "X_pca = pca.transform(y_out)\n",
    "print(\"original shape:   \", y_out.shape)\n",
    "print(\"transformed shape:\", X_pca.shape)\n",
    "for j in range(0,10):\n",
    "    y_out1 = []\n",
    "    y_out2 = []\n",
    "    for i in range(0,y_out.shape[0]):\n",
    "        if (np.argmax(Y_train[i]))==(0+j):\n",
    "            y_out1.append(X_pca[i])\n",
    "        elif (np.argmax(Y_train[i]))==(10+j):\n",
    "            y_out2.append(X_pca[i])\n",
    "    y_out1=np.array(y_out1)\n",
    "    y_out2=np.array(y_out2)\n",
    "    plt.scatter(y_out1[:, 0], y_out1[:, 1])\n",
    "    plt.scatter(y_out2[:, 0], y_out2[:, 1])\n",
    "    plt.axis('equal');\n",
    "    plt.figure()"
   ]
  },
  {
   "cell_type": "code",
   "execution_count": 16,
   "metadata": {
    "collapsed": false
   },
   "outputs": [
    {
     "data": {
      "text/plain": [
       "<Figure size 432x288 with 0 Axes>"
      ]
     },
     "execution_count": 16,
     "metadata": {},
     "output_type": "execute_result"
    },
    {
     "data": {
      "image/png": "[encoded data removed]",
      "text/plain": [
       "<Figure size 432x288 with 1 Axes>"
      ]
     },
     "metadata": {},
     "output_type": "display_data"
    },
    {
     "data": {
      "text/plain": [
       "<Figure size 432x288 with 0 Axes>"
      ]
     },
     "metadata": {},
     "output_type": "display_data"
    }
   ],
   "source": [
    "y_out1 = []\n",
    "y_out2 = []\n",
    "for i in range(0,y_out.shape[0]):\n",
    "    if (np.argmax(Y_train[i])//10)==(0):\n",
    "        y_out1.append(X_pca[i])\n",
    "    elif (np.argmax(Y_train[i])//10)==(1):\n",
    "        y_out2.append(X_pca[i])\n",
    "y_out1=np.array(y_out1)\n",
    "y_out2=np.array(y_out2)\n",
    "plt.scatter(y_out1[:, 0], y_out1[:, 1])\n",
    "plt.scatter(y_out2[:, 0], y_out2[:, 1])\n",
    "plt.axis('equal');\n",
    "plt.figure()"
   ]
  },
  {
   "cell_type": "code",
   "execution_count": null,
   "metadata": {
    "collapsed": true
   },
   "outputs": [],
   "source": []
  }
 ],
 "metadata": {
  "kernelspec": {
   "display_name": "Python 3",
   "language": "python",
   "name": "python3"
  },
  "language_info": {
   "codemirror_mode": {
    "name": "ipython",
    "version": 3
   },
   "file_extension": ".py",
   "mimetype": "text/x-python",
   "name": "python",
   "nbconvert_exporter": "python",
   "pygments_lexer": "ipython3",
   "version": "3.5.3"
  }
 },
 "nbformat": 4,
 "nbformat_minor": 2
}
